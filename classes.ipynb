{
 "cells": [
  {
   "cell_type": "code",
   "execution_count": 1,
   "id": "a996d17e",
   "metadata": {},
   "outputs": [
    {
     "name": "stdout",
     "output_type": "stream",
     "text": [
      "The Name is : Lokesh Singh\n",
      "The Age is : 21\n",
      "The role is : Software Trainer\n",
      "The Roll is : 25\n"
     ]
    }
   ],
   "source": [
    "class Base:\n",
    "\t# Constructor to set Data\n",
    "\tdef __init__(self, name, roll, role):\n",
    "\t\tself.name = name\n",
    "\t\tself.roll = roll\n",
    "\t\tself.role = role\n",
    "\n",
    "# Intermediate Class: Inherits the Base Class\n",
    "class Intermediate(Base):\n",
    "\t# Constructor to set age\n",
    "\tdef __init__(self, age, name, roll, role):\n",
    "\t\tsuper().__init__(name, roll, role)\n",
    "\t\tself.age = age\n",
    "\n",
    "# Derived Class: Inherits the Intermediate Class\n",
    "class Derived(Intermediate):\n",
    "\t# Method to Print Data\n",
    "\tdef __init__(self, age, name, roll, role):\n",
    "\t\tsuper().__init__(age, name, roll, role)\n",
    "\n",
    "\tdef Print_Data(self):\n",
    "\t\tprint(f\"The Name is : {self.name}\")\n",
    "\t\tprint(f\"The Age is : {self.age}\")\n",
    "\t\tprint(f\"The role is : {self.role}\")\n",
    "\t\tprint(f\"The Roll is : {self.roll}\")\n",
    "\n",
    "# Creating Object of Base Class\n",
    "obj = Derived(21, \"Lokesh Singh\", 25, \"Software Trainer\")\n",
    "\n",
    "# Printing the data with the help of derived class\n",
    "obj.Print_Data()\n"
   ]
  },
  {
   "cell_type": "code",
   "execution_count": 2,
   "id": "38ec235b",
   "metadata": {},
   "outputs": [
    {
     "name": "stdout",
     "output_type": "stream",
     "text": [
      "The Area of Rectangle is 12\n",
      "The Area of Rectangle is 16\n"
     ]
    }
   ],
   "source": [
    "class Shape:\n",
    "\tdef area(self):\n",
    "\t\traise NotImplementedError(\"Subclasses must Implement area()\")\n",
    "\n",
    "\n",
    "class Rectangle(Shape):\n",
    "\tdef __init__(self, length, width):\n",
    "\t\tself.width = width\n",
    "\t\tself.length = length\n",
    "\n",
    "\tdef area(self):\n",
    "\t\tprint(f\"The Area of Rectangle is {self.length*self.width}\")\n",
    "\n",
    "\n",
    "class Square(Rectangle):\n",
    "\tdef __init__(self, side):\n",
    "\t\tsuper().__init__(side, side)\n",
    "\n",
    "\tdef area(self):\n",
    "\t\tprint(f\"The Area of Rectangle is {self.length ** 2}\")\n",
    "\n",
    "\n",
    "# Creating Objects of class\n",
    "Rect = Rectangle(3, 4)\n",
    "my_sqre = Square(4)\n",
    "\n",
    "Rect.area()\n",
    "my_sqre.area()\n"
   ]
  }
 ],
 "metadata": {
  "kernelspec": {
   "display_name": "Python 3 (ipykernel)",
   "language": "python",
   "name": "python3"
  },
  "language_info": {
   "codemirror_mode": {
    "name": "ipython",
    "version": 3
   },
   "file_extension": ".py",
   "mimetype": "text/x-python",
   "name": "python",
   "nbconvert_exporter": "python",
   "pygments_lexer": "ipython3",
   "version": "3.10.9"
  }
 },
 "nbformat": 4,
 "nbformat_minor": 5
}
